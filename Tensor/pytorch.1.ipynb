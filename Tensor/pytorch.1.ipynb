{
 "cells": [
  {
   "cell_type": "markdown",
   "metadata": {},
   "source": [
    "# Learning PyTorch\n",
    "\n",
    "## 1. Introduction - Tensor Basics"
   ]
  },
  {
   "cell_type": "code",
   "execution_count": 8,
   "metadata": {},
   "outputs": [],
   "source": [
    "import torch\n",
    "import pandas as pd\n",
    "import numpy as np"
   ]
  },
  {
   "cell_type": "code",
   "execution_count": 2,
   "metadata": {},
   "outputs": [
    {
     "name": "stdout",
     "output_type": "stream",
     "text": [
      "tensor([1., 2., 3., 4., 5.])\n"
     ]
    }
   ],
   "source": [
    "temp = torch.FloatTensor([1, 2, 3, 4, 5])\n",
    "print(temp)"
   ]
  },
  {
   "cell_type": "code",
   "execution_count": 3,
   "metadata": {},
   "outputs": [
    {
     "data": {
      "text/plain": [
       "torch.Size([5])"
      ]
     },
     "execution_count": 3,
     "metadata": {},
     "output_type": "execute_result"
    }
   ],
   "source": [
    "temp.size()"
   ]
  },
  {
   "cell_type": "code",
   "execution_count": 4,
   "metadata": {},
   "outputs": [
    {
     "name": "stdout",
     "output_type": "stream",
     "text": [
      "tensor([0.4098, 0.1656, 0.1827, 0.1120, 0.0960, 0.8666, 0.1102, 0.2530, 0.7721,\n",
      "        0.9790])\n",
      "torch.Size([10])\n"
     ]
    }
   ],
   "source": [
    "x = torch.rand(10)\n",
    "print(x)\n",
    "print(x.size())"
   ]
  },
  {
   "cell_type": "markdown",
   "metadata": {},
   "source": [
    "## 2. first neural network using PyTorch"
   ]
  },
  {
   "cell_type": "code",
   "execution_count": 5,
   "metadata": {},
   "outputs": [],
   "source": [
    "import torch.nn as nn\n",
    "import torch.nn.functional as F\n",
    "\n",
    "class Net(nn.Module):\n",
    "    def __init__(self, input_size, hidden_size, output_size):\n",
    "        super(Net, self).__init__()\n",
    "\n",
    "        self.fc1 = nn.Linear(input_size, hidden_size)\n",
    "        self.fc2 = nn.Linear(hidden_size, output_size)\n",
    "\n",
    "    def forward(self, x):\n",
    "        x = F.relu(self.fc1(x))\n",
    "        x = F.sigmoid(self.fc2(x))\n",
    "        return x"
   ]
  },
  {
   "cell_type": "markdown",
   "metadata": {},
   "source": [
    "Trying the first neural network using PyTorch. We will use the  dataset to train the model."
   ]
  },
  {
   "cell_type": "code",
   "execution_count": 9,
   "metadata": {},
   "outputs": [],
   "source": [
    "url = \"https://github.com/rosenfa/nn/blob/master/pima-indians-diabetes.csv?raw=true\"\n",
    "\n",
    "df = pd.read_csv(url, header=0)\n",
    "features = df.drop([\"Outcome\"], axis=1)\n",
    "features = (features - features.mean()) / features.std()\n",
    "X = np.array(features)\n",
    "Y = np.array(df[\"Outcome\"])"
   ]
  },
  {
   "cell_type": "code",
   "execution_count": 10,
   "metadata": {},
   "outputs": [],
   "source": [
    "X = torch.FloatTensor(X)\n",
    "Y = torch.LongTensor(Y)"
   ]
  },
  {
   "cell_type": "code",
   "execution_count": 11,
   "metadata": {},
   "outputs": [],
   "source": [
    "epochs = 1000\n",
    "input_size = X.shape[1]\n",
    "hidden_size = 10\n",
    "output_size = 2\n",
    "learning_rate = 0.01"
   ]
  },
  {
   "cell_type": "code",
   "execution_count": 12,
   "metadata": {},
   "outputs": [
    {
     "name": "stdout",
     "output_type": "stream",
     "text": [
      "Epoch 0 Loss: 0.7099499702453613\n",
      "Epoch 100 Loss: 0.5119141936302185\n",
      "Epoch 200 Loss: 0.5016223788261414\n",
      "Epoch 300 Loss: 0.48917290568351746\n",
      "Epoch 400 Loss: 0.4778365194797516\n",
      "Epoch 500 Loss: 0.4684780538082123\n",
      "Epoch 600 Loss: 0.46097269654273987\n",
      "Epoch 700 Loss: 0.4555320739746094\n",
      "Epoch 800 Loss: 0.45049357414245605\n",
      "Epoch 900 Loss: 0.4469647705554962\n"
     ]
    }
   ],
   "source": [
    "net = Net(input_size, hidden_size, output_size)\n",
    "\n",
    "criterion = nn.CrossEntropyLoss()\n",
    "optimizer = torch.optim.Adam(net.parameters(), lr=learning_rate)\n",
    "\n",
    "for epoch in range(epochs):\n",
    "    optimizer.zero_grad()\n",
    "    out = net(X)\n",
    "    loss = criterion(out, Y)\n",
    "    \n",
    "    loss.backward()\n",
    "    optimizer.step()\n",
    "\n",
    "    if epoch % 100 == 0:\n",
    "        print(f\"Epoch {epoch} Loss: {loss.item()}\")"
   ]
  },
  {
   "cell_type": "markdown",
   "metadata": {},
   "source": [
    "Checking the accuracy of the model on the test dataset."
   ]
  },
  {
   "cell_type": "code",
   "execution_count": 13,
   "metadata": {},
   "outputs": [
    {
     "name": "stdout",
     "output_type": "stream",
     "text": [
      "Accuracy: 0.87890625\n"
     ]
    }
   ],
   "source": [
    "accuracy = 0\n",
    "\n",
    "for i in range(len(X)):\n",
    "    with torch.no_grad():\n",
    "        output = net(X[i])\n",
    "    if torch.argmax(output) == Y[i]:\n",
    "        accuracy += 1\n",
    "\n",
    "print(f\"Accuracy: {accuracy / len(X)}\")"
   ]
  }
 ],
 "metadata": {
  "kernelspec": {
   "display_name": "data.venv",
   "language": "python",
   "name": "python3"
  },
  "language_info": {
   "codemirror_mode": {
    "name": "ipython",
    "version": 3
   },
   "file_extension": ".py",
   "mimetype": "text/x-python",
   "name": "python",
   "nbconvert_exporter": "python",
   "pygments_lexer": "ipython3",
   "version": "3.12.3"
  }
 },
 "nbformat": 4,
 "nbformat_minor": 2
}
